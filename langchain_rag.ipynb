{
 "cells": [
  {
   "cell_type": "markdown",
   "metadata": {},
   "source": [
    "### Langchain RAG\n",
    "\n",
    "Indexing: a pipeline for ingesting data from a source and indexing it. This usually happens offline.\n",
    "\n",
    "Retrieval and generation: the actual RAG chain, which takes the user query at run time and retrieves the relevant data from the index, then passes that to the model.\n",
    "\n",
    "Indexing involves: \n",
    "1. Load: Loading the documents into from the source. This is done in langchain with Document Loaders classes.\n",
    "2. Split: Splitting the documents into chunks so that it fits into embedding model context window size\n",
    "3. Embed: converting the chunks into vectors for machine readable format. This is done with an embedding model.\n",
    "4. Store: Storing the embeddings into a Vector Store DB so that we can index our vectors\n",
    "5. Retrieve: Given a user input, relevant splits are retrieved from storage using a Retriever.\n",
    "6. Generate: A LLM produces an answer using a prompt that includes both the question and the retrieved data\n",
    "\n"
   ]
  },
  {
   "cell_type": "markdown",
   "metadata": {},
   "source": [
    "The Project below will use the following tech:\n",
    "\n",
    "1. Webscraper for scraping the website"
   ]
  },
  {
   "cell_type": "code",
   "execution_count": null,
   "metadata": {},
   "outputs": [],
   "source": []
  }
 ],
 "metadata": {
  "kernelspec": {
   "display_name": ".venv",
   "language": "python",
   "name": "python3"
  },
  "language_info": {
   "codemirror_mode": {
    "name": "ipython",
    "version": 3
   },
   "file_extension": ".py",
   "mimetype": "text/x-python",
   "name": "python",
   "nbconvert_exporter": "python",
   "pygments_lexer": "ipython3",
   "version": "3.11.5"
  }
 },
 "nbformat": 4,
 "nbformat_minor": 2
}
