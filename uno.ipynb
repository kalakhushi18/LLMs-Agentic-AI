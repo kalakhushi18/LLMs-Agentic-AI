{
 "cells": [
  {
   "cell_type": "markdown",
   "metadata": {},
   "source": [
    "First Project UNO Manual Chatbot"
   ]
  },
  {
   "cell_type": "code",
   "execution_count": 2,
   "metadata": {},
   "outputs": [
    {
     "name": "stdout",
     "output_type": "stream",
     "text": [
      "51967 \n",
      "Der große Spielspaß für die ganze Familie! \n",
      "Für 2 bis 10 Spieler ab 7 Jahren \n",
      "INHALT \n",
      "108 Spielkarten: \n",
      "19 blaue Karten - 0 bis 9 \n",
      "19 grüne Karten - 0 bis 9 \n",
      "19 rote Karten - 0 bis 9 \n",
      "19 gelbe Karten - 0 bis 9 \n",
      "8 Zieh Zwei Karten - jeweils 2 blaue, grüne, rote und gelbe \n",
      "8 Retour Karten - jeweils 2 blaue, grüne, rote und gelbe \n",
      "8 Aussetzen Karten - jeweils 2 blaue, grüne, rote und gelbe \n",
      "4 Farbenwahlkarten \n",
      "4 Zieh Vier Farbenwahlkarten \n",
      "UNO Deluxe enthält auch einen Kartenschlitten und einen Notizblock für den Punktestand \n",
      "ZIEL DES SPIELS \n",
      "Als erster Spieler 500 erzielen. Die Punkte werden erzielt, indem Du als erster Spieler alle Karten in \n",
      "Deiner Hand ablegst. Du bekommst Punkte für Karten, die Deine Mitspieler noch nicht abgelegt haben. \n",
      "SO WIRD GESPIELT \n",
      "Jeder Spieler zieht eine Karte. Der Spieler, der die höchste Zahl zieht, ist der Geber. Aktionskarten \n",
      "zählen bei diesem Teil des Spiels nicht. \n",
      "Sobald die Karten gemischt sind, erhält jeder Spieler 7 Karten. \n",
      "Die übrigen Karten werden mit dem Gesicht nach unten auf den Tisch gelegt und bilden den \n",
      "KARTENSTOCK. Die oberste Karte wird herumgedreht und neben den KARTENSTOCK gelegt. Sie bildet \n",
      "den ABLEGESTAPEL. Ist diese Karte eine Aktionskarte, gelten bestimmte Regeln (SIEHE FUNKTIONEN \n",
      "DER AKTIONSKARTEN). \n",
      "Der Spieler zur Linken des Gebers beginnt das Spiel. Die Karten, die die Spieler ablegen, müssen mit \n",
      "den Karten des ABLEGESTAPELS in Zahl, Farbe oder Symbol übereinstimmen. Ist zum Beispiel die \n",
      "Karte eine rote 7, muss der Spieler entweder eine rote Karte oder eine andere Karte beliebiger Farbe mit \n",
      "der Zahl 7 ablegen. Alternativ hierzu kann der Spieler auch eine Farbenwahlkarte ablegen (Siehe \n",
      "FUNKTIONEN DER AKTIONSKARTEN). \n",
      "Hält ein Spieler keine Karte in der Hand, die er auf den ABLEGESTAPEL legen könnte, muss er vom \n",
      "KARTENSTOCK eine Karte ziehen. Er darf die gezogene Karte sofort legen, wenn er kann. Ansonsten \n",
      "setzt der nächste Spieler das Spiel fort. \n",
      "Die Spieler haben die Möglichkeit, eine ablegbare Karte nicht abzulegen. Wenn dies der Fall ist, muss \n",
      "der Spieler vom KARTENSTOCK eine Karte ziehen. Er darf die gezogene Karte sofort legen, wenn er \n",
      "kann. Der Spieler darf jedoch nach dem Ziehen keine Karte, die er bereits in der Hand hält, legen.\n",
      "51967 \n",
      "FUNKTIONEN DER AKTIONSKARTEN \n",
      "Die Funktionen der Aktionskarten und wann sie gelegt werden können, sind nachfolgend dargelegt. \n",
      "ZIEH ZWEI KARTE \n",
      "Wenn diese Karte gelegt wird, muss der nächste Spieler 2 Karten ziehen und darf in \n",
      "dieser Runde keine Karten ablegen. Diese Karte kann nur auf eine Karte mit \n",
      "entsprechender Farbe oder andere Zieh Zwei Karten gelegt werden. Wenn sie zu \n",
      "Beginn des Spiels aufgedeckt wird, gelten dieselben Regeln. \n",
      "RETOUR KARTE \n",
      "Bei dieser Karte ändert sich die Spielrichtung. Wenn bisher nach links gespielt \n",
      "wurde, wird nun nach rechts gespielt und umgekehrt. Die Karte kann nur auf eine \n",
      "entsprechende Farbe oder eine andere Retour Karte gelegt werden. Wenn diese \n",
      "Karte zu Beginn des Spiels gezogen wird, fängt der Geber an und dann setzt der \n",
      "Spieler zu seiner Rechten anstatt zu seiner Linken das Spiel fort. \n",
      "AUSSETZEN KARTE \n",
      "Nachdem diese Karte gelegt wurde, wird der nächste Spieler \"übersprungen\". Die \n",
      "Karte kann nur auf eine Karte mit entsprechender Farbe oder eine andere Aussetzen \n",
      "Karte gelegt werden. Wenn diese Karte zu Beginn des Spiels gezogen wird, wird der \n",
      "Spieler zur Linken des Gebers \"übersprungen\" und der Spieler zur Linken dieses \n",
      "Spielers setzt das Spiel fort. \n",
      "FARBENWAHLKARTE \n",
      "Der Spieler, der diese Karte legt, entscheidet, welche Farbe als nächstes gelegt \n",
      "werden soll. Auch die schon liegende Farbe darf gewählt werden. Eine Farbenwahl \n",
      "Karte darf auch dann gelegt werden, wenn der Spieler eine andere Karte legen \n",
      "könnte. Wenn eine Farbenwahl Karte zu Beginn des Spiels gezogen wird, entscheidet \n",
      "der Spieler zur Linken des Gebers, welche Farbe als nächste gelegt werden soll. \n",
      "ZIEH VIER FARBENWAHLKARTE \n",
      "Diese Karte ist die beste. Der Spieler, der sie legt, entscheidet, welche Farbe als \n",
      "nächste gelegt werden soll. Zudem muss der nächste Spieler 4 Karten von dem \n",
      "KARTENSTOCK nehmen. Er darf in dieser Runde keine Karte ablegen. Leider darf \n",
      "die Karte nur dann gelegt werden, wenn der Spieler, der sie hat, keine Karte in der \n",
      "Hand hält, die der Farbe auf dem KARTENSTOCK entspricht. Hat der Spieler eine \n",
      "Karte mit entsprechender Nummer oder Aktionskarten, kann die Zieh Vier \n",
      "Farbenwahlkarte dennoch gelegt werden. Ein Spieler der eine Zieh Vier \n",
      "Farbenwahlkarte hat, kann bluffen und die Karte \"unerlaubt\" legen. Wird er jedoch \n",
      "dabei \"erwischt\" gelten bestimmte Regeln (siehe STRAFKARTEN). Wird diese Karte zu Beginn des Spiels \n",
      "gezogen, wird sie auf den Stapel zurückgelegt und eine andere Karte wird gezogen. \n",
      "AUSSPIELEN \n",
      "Hat ein Spieler nur noch eine Karte auf seiner Hand übrig, muss er \"UNO\" rufen (das bedeutet \"eins\"). \n",
      "Vergisst er dieses, muss er 2 Strafkarten vom KARTENSTOCK ziehen. Er muss diese Strafkarten jedoch \n",
      "nur ziehen, wenn er von den anderen Spielern erwischt wird (siehe STRAFKARTEN). \n",
      "Sobald ein Spieler keine Karten mehr hat, ist das Ablegen beendet. Die Punkte werden \n",
      "zusammengezählt (siehe PUNKTE) und das Spiel beginnt von neuem.\n",
      "51967 \n",
      "Ist die letzte Karte, die abgelegt wird, eine Zieh Zwei Karte oder eine Zieh Vier Farbenwahlkarte, muss \n",
      "der nächste Spieler jeweils 2 oder 4 Karten ziehen. Diese Karten werden mitgezählt, wenn die Punkte \n",
      "zusammengerechnet werden. \n",
      "Ist der KARTENSTOCK aufgebraucht, bevor ein Spieler all seine Karten abgelegt hat, wird der \n",
      "ABLEGESTAPEL gemischt und bildet dann den neuen KARTENSTOCK. \n",
      "PUNKTE \n",
      "Der Spieler, der als erster all seine Karten abgelegt hat, erhält folgende Punkte für die Karten, die seine \n",
      "Mitspieler noch in der Hand halten: \n",
      "Alle Nummernkarten (0-9) Wert \n",
      "Zieh Zwei Karte 20 Punkte \n",
      "Retour Karte 20 Punkte \n",
      "Aussetzen Karte 20 Punkte \n",
      "Farbenwahl Karte 50 Punkte \n",
      "Zieh Vier Farbenwahl Karte 50 Punkte \n",
      "GEWONNEN hat der Spieler, der als erster 500 Punkte hat. Man kann jedoch auch die laufende \n",
      "Gesamtpunktzahl der Karten zusammenzählen, die ein Spieler am Ende jeder Runde noch nicht abgelegt \n",
      "hat. Hat ein Spieler 500 Punkte erreicht, hat der Spieler mit der niedrigsten Punktzahl gewonnen. \n",
      "STRAFEN \n",
      "Hat die vorletzte Karte des Spielers den ABLEGESTAPEL noch nicht berührt, und er erinnert sich \n",
      "rechtzeitig (und ruft \"UNO\"), muss er keine Strafkarten ziehen. Ein Spieler muss erst dann Strafkarten \n",
      "ziehen, wenn die vorletzte Karte den ABLEGESTAPEL berührt. Ein Spieler muss ebenfalls keine \n",
      "Strafkarten ziehen, wenn der nächste Spieler mit seinem Spielzug begonnen hat. \"Einen Spielzug \n",
      "beginnen\" bedeutet, dass der nächste Spieler bereits eine Karte vom KARTENSTOCK aufnimmt oder \n",
      "dabei ist, eine Karte abzulegen. \n",
      "Spieler, die anderen Spielern Vorschläge machen, welche Karten sie legen sollen, müssen 2 Karten von \n",
      "dem KARTENSTOCK aufnehmen. \n",
      "Legt ein Spieler eine falsche Karte ab und wird dies von den anderen Spielern bemerkt, muss er seine \n",
      "Karte zurücknehmen und 2 zusätzliche Karten von dem KARTENSTOCK aufnehmen. Der nächste Spieler \n",
      "setzt das Spiel fort. \n",
      "Wird eine Zieh Vier Farbenwahlkarte \"unerlaubt\" (d.h. der Spieler hat eine Farbe, die der auf dem \n",
      "ABLEGESTAPEL entspricht) abgelegt und wird der Spieler, der sie ablegt, herausgefordert, muss er die \n",
      "Karten, die er in der Hand hält, zuerst dem Spieler zeigen, der ihn herausgefordert hat. Wurde die Zieh \n",
      "Vier Farbenwahlkarte \"unerlaubt\" abgelegt, muss der Spieler, der gegen die Regeln verstößt, 4 Karten \n",
      "ziehen. Wurde die Karte korrekt abgelegt, muss der Herausforderer zusätzlich zu den 4 noch einmal 2 \n",
      "Karten ziehen. Herausfordern kann nur der Spieler, der 4 Karten ziehen muss, nachdem die Zieh Vier \n",
      "Farbenwahlkarte gelegt wurde. \n",
      "UNO MIT ZWEI SPIELERN \n",
      "Für dieses Spiel gelten folgende Regeln: \n",
      "1. Wird eine Retour Karte abgelegt, hat dies dieselben Folgen wie eine Aussetzen Karte. Der Spieler, der \n",
      "die Retour Karte ablegt, kann sofort noch eine weitere Karte ablegen. \n",
      "2. Der Spieler, der eine Aussetzen Karte ablegt, kann sofort noch eine weitere Karte ablegen. \n",
      "3. Legt ein Spieler eine Zieh Zwei Karte ab und hat der andere Spieler die 2 Karten gezogen, ist der erste \n",
      "Spieler wieder an der Reihe. Dasselbe gilt für die Zieh Vier Farbenwahlkarte. In allen anderen Fällen \n",
      "gelten die normalen UNO-Regeln.51967 \n",
      "PARTNER \n",
      "Partner sitzen sich gegenüber. Hat einer der beiden Partner alle Karten abgelegt, ist die Runde zu Ende. \n",
      "Alle Punkte, die die beiden anderen Partner noch in der Hand halten, werden zusammengezählt und für \n",
      "das Team der Gewinner notiert. \n",
      "VARIANTE \n",
      "Bei vier Spielern können vier Runden gespielt werden, wobei die Spieler in jeder Runde einen anderen \n",
      "Partner haben können. Alle Spieler notieren sich die Punkte, die sie mit ihren jeweiligen Partnern erzielt \n",
      "haben. Es können mehrere Runden gespielt werden. Der Spieler, der die höchste Punktzahl erzielt, hat \n",
      "gewonnen. \n",
      "Mit acht Spielern können zwei separate Spiele an zwei Tischen gespielt werden, wobei jeder Spieler \n",
      "einen anderen Spieler für jeweils vier Runden als Partner hat (insgesamt 28 Runden). Die Punkte \n",
      "werden wie oben zusammengerechnet. \n",
      "CHALLENGE UNO \n",
      "Bei diesem Spiel werden die Punkte zusammengerechnet, die jeder Spieler in der Hand hält. Wenn ein \n",
      "Spieler eine bestimmte Punktzahl erreicht (zum Beispiel 500), scheidet dieser Spieler aus. Sind nur \n",
      "noch zwei Spieler übrig geblieben, spielen diese gegeneinander. Der Spieler, der die festgelegte \n",
      "Punktzahl erreicht oder überschreitet, verliert. Der Gewinner dieser Schlußrunde hat das ganze Spiel \n",
      "gewonnen. (Siehe Sonderregeln für UNO MIT ZWEI SPIELERN.) \n",
      "HAUSREGELN \n",
      "Ihr könnt auch einige der folgenden \"Hausregeln\" ausprobieren, wenn ihr UNO spielt. \n",
      "UNO FÜR FORTGESCHRITTENE \n",
      "Hier gelten dieselben Regeln wie bei UNO, mit folgenden Ausnahmen: \n",
      "1. Legt ein Spieler eine Zieh Zwei Karte ab, kann der nächste Spieler eine weitere Zieh Zwei Karte \n",
      "ablegen, wodurch der nächste Spieler 4 Karten ziehen muss. \n",
      "2. Dieselbe Regel gilt für die Zieh Vier Farbenwahlkarten: \n",
      "Legt ein Spieler eine Zieh Vier Farbenwahlkarte ab, kann der nächste Spieler eine weitere Zieh Vier \n",
      "Farbenwahlkarte ablegen, wodurch der nächste Spieler 8 Karten ziehen muss. Der letzte Spieler, der \n",
      "eine Zieh Vier Farbenwahlkarte in Folge ablegt, bestimmt die Farbe, mit der weitergespielt wird. Wird \n",
      "eine Zieh Vier Farbenwahlkarte \"unerlaubt\" abgelegt und wird der Spieler herausgefordert, gelten die \n",
      "üblichen Regeln (siehe STRAFKARTEN), allerdings nimmt die Anzahl der Strafkarten je nach Anzahl der \n",
      "abgelegten Karten zu. \n",
      "3. Die Spieler können weiterhin Zieh Zwei oder Zieh Vier Farbenwahlkarte in Folge ablegen, solange sie \n",
      "sie in der Hand halten. Haben zum Beispiel 4 Spieler nacheinander Zieh Zwei Karten abgelegt, müsste \n",
      "der nächste Spieler (der keine Zieh Zwei Karte hat) 8 Karten ziehen. \n",
      "4. Wenn Du an der Reihe bist, kannst Du nur eine Zieh Zwei oder Zieh Vier Farbenwahlkarte ablegen, \n",
      "auch wenn Du mehrere dieser Karten in der Hand hältst. \n",
      "SEVEN-O UNO \n",
      "Hier gelten dieselben Regeln wie bei UNO, mit folgenden Ausnahmen: \n",
      "1. Jedes Mal wenn eine \"0\" abgelegt wird, müssen alle Spieler die Karten, die sie in der Hand halten, an \n",
      "den nächsten Spieler in Spielrichtung weitergeben. \n",
      "2. Jedes Mal wenn eine \"7\" ablegt wird, muss der Spieler, der die Karte \"7\" abgelegt hat, die Karten, die \n",
      "er in der Hand hält, mit einem anderen Spieler seiner Wahl tauschen.51967 \n",
      "JUMP-IN UNO \n",
      "Hier gelten dieselben Regeln wie bei UNO, mit folgenden Ausnahmen: \n",
      "Wenn Du genau dieselbe Karte hast (identische Farbe und Zahl), wie die Karten oben auf dem \n",
      "KARTENSTOCK, kannst Du sie sofort ablegen, auch wenn Du gerade nicht an der Reihe bist. Zum \n",
      "Beispiel: Wenn eine \"Blaue 6\" oben auf dem KARTENSTOCK ist und Du eine \"Blaue 6\" in der Hand hast, \n",
      "kannst Du sie ablegen, auch wenn Du nicht an der Reihe bist. Das Spiel wird bei dem Spieler \n",
      "fortgesetzt, der die letzte Karte abgelegt hat (der Spieler, der \"eingegriffen\" hat). \n",
      "Zwei wichtige Dinge gilt es zu beachten: \n",
      "1. Wenn Du 2 gleiche Karten in der Hand hast, kannst Du sie mit den Rückseiten aneinander ablegen. \n",
      "Sie müssen jedoch einzeln abgelegt werden (erst eine Karte auf dem KARTENSTOCK ablegen und dann \n",
      "die andere). Dadurch hat ein anderer Spieler die Möglichkeit einzugreifen und zu verhindern, dass Du \n",
      "eine zweite Karte ablegst. \n",
      "2. Wenn Du mit einer Aussetzen, Retour, Zieh Zwei oder Zieh Vier Farbenwahlkarte \"eingreifst\", hebt die \n",
      "zweite identische Karte die erste auf. (Für diese Karten gelten die normalen UNO-Regeln. Der Spieler, \n",
      "der die zweite identische Karte abgelegt hat, fängt an.) \n",
      "Für noch mehr Spaß und Spannung kannst Du auch versuchen, die verschiedenen UNO-HAUSREGELN \n",
      "zu kombinieren. Stehen diese Regeln im Widerspruch zueinander, kann DEIN HAUS die beste \n",
      "Spielweise definieren! \n",
      "Viel Spaß mit UNO - und möge der beste Spieler oder der Glücklichste gewinnen! \n",
      "©2002 Mattel, Inc. All R ights Reserved. Uno and Mattel Logo are tradenarks of Mattel, Inc.\n"
     ]
    }
   ],
   "source": [
    "import PyPDF2\n",
    "\n",
    "with open(\"./UNOClassicManualGerman.pdf\", \"rb\") as file:\n",
    "    reader = PyPDF2.PdfReader(file)\n",
    "    text = \"\"\n",
    "    for page in reader.pages:\n",
    "        text += page.extract_text()\n",
    "\n",
    "print(text)"
   ]
  },
  {
   "cell_type": "code",
   "execution_count": 3,
   "metadata": {},
   "outputs": [],
   "source": [
    "# Saved api keys are in a .env file\n",
    "import os\n",
    "from dotenv import load_dotenv\n",
    "from pathlib import Path\n",
    "\n",
    "# Check current directory and up to two parent directories for .env\n",
    "for path in [Path.cwd(), Path.cwd().parent, Path.cwd().parent.parent]:\n",
    "    dotenv_file = path / \".env\"\n",
    "    if dotenv_file.exists():\n",
    "        load_dotenv(dotenv_file)\n",
    "        break"
   ]
  },
  {
   "cell_type": "markdown",
   "metadata": {},
   "source": [
    "Developer(system) prompt for LLM : Highest Priority, it defines high level logic "
   ]
  },
  {
   "cell_type": "code",
   "execution_count": 11,
   "metadata": {},
   "outputs": [],
   "source": [
    "developer_prompt = f\"\"\"\n",
    "# Identity\n",
    "\n",
    "You are a game assistant for the UNO game and answer questions from the user about rules of game.\n",
    "\n",
    "# Instructions\n",
    "\n",
    "1. Only answer based on the context of the manual.\n",
    "2. If there is no answer or not a definite answer to the question in the manual, say it so\n",
    "3. The Manual is provided in German Language, but the responses must be given in the language of user prompt\n",
    "\n",
    "# Manual\n",
    "{text}\n",
    "\"\"\""
   ]
  },
  {
   "cell_type": "code",
   "execution_count": 12,
   "metadata": {},
   "outputs": [],
   "source": [
    "messages = [\n",
    "    {\n",
    "        \"role\": \"developer\",\n",
    "        \"content\": developer_prompt\n",
    "    }\n",
    "]"
   ]
  },
  {
   "cell_type": "markdown",
   "metadata": {},
   "source": [
    "User Prompt: User question"
   ]
  },
  {
   "cell_type": "code",
   "execution_count": 13,
   "metadata": {},
   "outputs": [],
   "source": [
    "user_question = \"How many cards each user gets to begin with?\"\n",
    "messages.append({\"role\": \"user\",\"content\": user_question})"
   ]
  },
  {
   "cell_type": "code",
   "execution_count": 14,
   "metadata": {},
   "outputs": [
    {
     "data": {
      "text/plain": [
       "[{'role': 'developer',\n",
       "  'content': '\\n# Identity\\n\\nYou are a game assistant for the UNO game and answer questions from the user about rules of game.\\n\\n# Instructions\\n\\n1. Only answer based on the context of the manual.\\n2. If there is no answer or not a definite answer to the question in the manual, say it so\\n3. The Manual is provided in German Language, but the responses must be given in the language of user prompt\\n# Manual\\n51967 \\nDer große Spielspaß für die ganze Familie! \\nFür 2 bis 10 Spieler ab 7 Jahren \\nINHALT \\n108 Spielkarten: \\n19 blaue Karten - 0 bis 9 \\n19 grüne Karten - 0 bis 9 \\n19 rote Karten - 0 bis 9 \\n19 gelbe Karten - 0 bis 9 \\n8 Zieh Zwei Karten - jeweils 2 blaue, grüne, rote und gelbe \\n8 Retour Karten - jeweils 2 blaue, grüne, rote und gelbe \\n8 Aussetzen Karten - jeweils 2 blaue, grüne, rote und gelbe \\n4 Farbenwahlkarten \\n4 Zieh Vier Farbenwahlkarten \\nUNO Deluxe enthält auch einen Kartenschlitten und einen Notizblock für den Punktestand \\nZIEL DES SPIELS \\nAls erster Spieler 500 erzielen. Die Punkte werden erzielt, indem Du als erster Spieler alle Karten in \\nDeiner Hand ablegst. Du bekommst Punkte für Karten, die Deine Mitspieler noch nicht abgelegt haben. \\nSO WIRD GESPIELT \\nJeder Spieler zieht eine Karte. Der Spieler, der die höchste Zahl zieht, ist der Geber. Aktionskarten \\nzählen bei diesem Teil des Spiels nicht. \\nSobald die Karten gemischt sind, erhält jeder Spieler 7 Karten. \\nDie übrigen Karten werden mit dem Gesicht nach unten auf den Tisch gelegt und bilden den \\nKARTENSTOCK. Die oberste Karte wird herumgedreht und neben den KARTENSTOCK gelegt. Sie bildet \\nden ABLEGESTAPEL. Ist diese Karte eine Aktionskarte, gelten bestimmte Regeln (SIEHE FUNKTIONEN \\nDER AKTIONSKARTEN). \\nDer Spieler zur Linken des Gebers beginnt das Spiel. Die Karten, die die Spieler ablegen, müssen mit \\nden Karten des ABLEGESTAPELS in Zahl, Farbe oder Symbol übereinstimmen. Ist zum Beispiel die \\nKarte eine rote 7, muss der Spieler entweder eine rote Karte oder eine andere Karte beliebiger Farbe mit \\nder Zahl 7 ablegen. Alternativ hierzu kann der Spieler auch eine Farbenwahlkarte ablegen (Siehe \\nFUNKTIONEN DER AKTIONSKARTEN). \\nHält ein Spieler keine Karte in der Hand, die er auf den ABLEGESTAPEL legen könnte, muss er vom \\nKARTENSTOCK eine Karte ziehen. Er darf die gezogene Karte sofort legen, wenn er kann. Ansonsten \\nsetzt der nächste Spieler das Spiel fort. \\nDie Spieler haben die Möglichkeit, eine ablegbare Karte nicht abzulegen. Wenn dies der Fall ist, muss \\nder Spieler vom KARTENSTOCK eine Karte ziehen. Er darf die gezogene Karte sofort legen, wenn er \\nkann. Der Spieler darf jedoch nach dem Ziehen keine Karte, die er bereits in der Hand hält, legen.\\n51967 \\nFUNKTIONEN DER AKTIONSKARTEN \\nDie Funktionen der Aktionskarten und wann sie gelegt werden können, sind nachfolgend dargelegt. \\nZIEH ZWEI KARTE \\nWenn diese Karte gelegt wird, muss der nächste Spieler 2 Karten ziehen und darf in \\ndieser Runde keine Karten ablegen. Diese Karte kann nur auf eine Karte mit \\nentsprechender Farbe oder andere Zieh Zwei Karten gelegt werden. Wenn sie zu \\nBeginn des Spiels aufgedeckt wird, gelten dieselben Regeln. \\nRETOUR KARTE \\nBei dieser Karte ändert sich die Spielrichtung. Wenn bisher nach links gespielt \\nwurde, wird nun nach rechts gespielt und umgekehrt. Die Karte kann nur auf eine \\nentsprechende Farbe oder eine andere Retour Karte gelegt werden. Wenn diese \\nKarte zu Beginn des Spiels gezogen wird, fängt der Geber an und dann setzt der \\nSpieler zu seiner Rechten anstatt zu seiner Linken das Spiel fort. \\nAUSSETZEN KARTE \\nNachdem diese Karte gelegt wurde, wird der nächste Spieler \"übersprungen\". Die \\nKarte kann nur auf eine Karte mit entsprechender Farbe oder eine andere Aussetzen \\nKarte gelegt werden. Wenn diese Karte zu Beginn des Spiels gezogen wird, wird der \\nSpieler zur Linken des Gebers \"übersprungen\" und der Spieler zur Linken dieses \\nSpielers setzt das Spiel fort. \\nFARBENWAHLKARTE \\nDer Spieler, der diese Karte legt, entscheidet, welche Farbe als nächstes gelegt \\nwerden soll. Auch die schon liegende Farbe darf gewählt werden. Eine Farbenwahl \\nKarte darf auch dann gelegt werden, wenn der Spieler eine andere Karte legen \\nkönnte. Wenn eine Farbenwahl Karte zu Beginn des Spiels gezogen wird, entscheidet \\nder Spieler zur Linken des Gebers, welche Farbe als nächste gelegt werden soll. \\nZIEH VIER FARBENWAHLKARTE \\nDiese Karte ist die beste. Der Spieler, der sie legt, entscheidet, welche Farbe als \\nnächste gelegt werden soll. Zudem muss der nächste Spieler 4 Karten von dem \\nKARTENSTOCK nehmen. Er darf in dieser Runde keine Karte ablegen. Leider darf \\ndie Karte nur dann gelegt werden, wenn der Spieler, der sie hat, keine Karte in der \\nHand hält, die der Farbe auf dem KARTENSTOCK entspricht. Hat der Spieler eine \\nKarte mit entsprechender Nummer oder Aktionskarten, kann die Zieh Vier \\nFarbenwahlkarte dennoch gelegt werden. Ein Spieler der eine Zieh Vier \\nFarbenwahlkarte hat, kann bluffen und die Karte \"unerlaubt\" legen. Wird er jedoch \\ndabei \"erwischt\" gelten bestimmte Regeln (siehe STRAFKARTEN). Wird diese Karte zu Beginn des Spiels \\ngezogen, wird sie auf den Stapel zurückgelegt und eine andere Karte wird gezogen. \\nAUSSPIELEN \\nHat ein Spieler nur noch eine Karte auf seiner Hand übrig, muss er \"UNO\" rufen (das bedeutet \"eins\"). \\nVergisst er dieses, muss er 2 Strafkarten vom KARTENSTOCK ziehen. Er muss diese Strafkarten jedoch \\nnur ziehen, wenn er von den anderen Spielern erwischt wird (siehe STRAFKARTEN). \\nSobald ein Spieler keine Karten mehr hat, ist das Ablegen beendet. Die Punkte werden \\nzusammengezählt (siehe PUNKTE) und das Spiel beginnt von neuem.\\n51967 \\nIst die letzte Karte, die abgelegt wird, eine Zieh Zwei Karte oder eine Zieh Vier Farbenwahlkarte, muss \\nder nächste Spieler jeweils 2 oder 4 Karten ziehen. Diese Karten werden mitgezählt, wenn die Punkte \\nzusammengerechnet werden. \\nIst der KARTENSTOCK aufgebraucht, bevor ein Spieler all seine Karten abgelegt hat, wird der \\nABLEGESTAPEL gemischt und bildet dann den neuen KARTENSTOCK. \\nPUNKTE \\nDer Spieler, der als erster all seine Karten abgelegt hat, erhält folgende Punkte für die Karten, die seine \\nMitspieler noch in der Hand halten: \\nAlle Nummernkarten (0-9) Wert \\nZieh Zwei Karte 20 Punkte \\nRetour Karte 20 Punkte \\nAussetzen Karte 20 Punkte \\nFarbenwahl Karte 50 Punkte \\nZieh Vier Farbenwahl Karte 50 Punkte \\nGEWONNEN hat der Spieler, der als erster 500 Punkte hat. Man kann jedoch auch die laufende \\nGesamtpunktzahl der Karten zusammenzählen, die ein Spieler am Ende jeder Runde noch nicht abgelegt \\nhat. Hat ein Spieler 500 Punkte erreicht, hat der Spieler mit der niedrigsten Punktzahl gewonnen. \\nSTRAFEN \\nHat die vorletzte Karte des Spielers den ABLEGESTAPEL noch nicht berührt, und er erinnert sich \\nrechtzeitig (und ruft \"UNO\"), muss er keine Strafkarten ziehen. Ein Spieler muss erst dann Strafkarten \\nziehen, wenn die vorletzte Karte den ABLEGESTAPEL berührt. Ein Spieler muss ebenfalls keine \\nStrafkarten ziehen, wenn der nächste Spieler mit seinem Spielzug begonnen hat. \"Einen Spielzug \\nbeginnen\" bedeutet, dass der nächste Spieler bereits eine Karte vom KARTENSTOCK aufnimmt oder \\ndabei ist, eine Karte abzulegen. \\nSpieler, die anderen Spielern Vorschläge machen, welche Karten sie legen sollen, müssen 2 Karten von \\ndem KARTENSTOCK aufnehmen. \\nLegt ein Spieler eine falsche Karte ab und wird dies von den anderen Spielern bemerkt, muss er seine \\nKarte zurücknehmen und 2 zusätzliche Karten von dem KARTENSTOCK aufnehmen. Der nächste Spieler \\nsetzt das Spiel fort. \\nWird eine Zieh Vier Farbenwahlkarte \"unerlaubt\" (d.h. der Spieler hat eine Farbe, die der auf dem \\nABLEGESTAPEL entspricht) abgelegt und wird der Spieler, der sie ablegt, herausgefordert, muss er die \\nKarten, die er in der Hand hält, zuerst dem Spieler zeigen, der ihn herausgefordert hat. Wurde die Zieh \\nVier Farbenwahlkarte \"unerlaubt\" abgelegt, muss der Spieler, der gegen die Regeln verstößt, 4 Karten \\nziehen. Wurde die Karte korrekt abgelegt, muss der Herausforderer zusätzlich zu den 4 noch einmal 2 \\nKarten ziehen. Herausfordern kann nur der Spieler, der 4 Karten ziehen muss, nachdem die Zieh Vier \\nFarbenwahlkarte gelegt wurde. \\nUNO MIT ZWEI SPIELERN \\nFür dieses Spiel gelten folgende Regeln: \\n1. Wird eine Retour Karte abgelegt, hat dies dieselben Folgen wie eine Aussetzen Karte. Der Spieler, der \\ndie Retour Karte ablegt, kann sofort noch eine weitere Karte ablegen. \\n2. Der Spieler, der eine Aussetzen Karte ablegt, kann sofort noch eine weitere Karte ablegen. \\n3. Legt ein Spieler eine Zieh Zwei Karte ab und hat der andere Spieler die 2 Karten gezogen, ist der erste \\nSpieler wieder an der Reihe. Dasselbe gilt für die Zieh Vier Farbenwahlkarte. In allen anderen Fällen \\ngelten die normalen UNO-Regeln.51967 \\nPARTNER \\nPartner sitzen sich gegenüber. Hat einer der beiden Partner alle Karten abgelegt, ist die Runde zu Ende. \\nAlle Punkte, die die beiden anderen Partner noch in der Hand halten, werden zusammengezählt und für \\ndas Team der Gewinner notiert. \\nVARIANTE \\nBei vier Spielern können vier Runden gespielt werden, wobei die Spieler in jeder Runde einen anderen \\nPartner haben können. Alle Spieler notieren sich die Punkte, die sie mit ihren jeweiligen Partnern erzielt \\nhaben. Es können mehrere Runden gespielt werden. Der Spieler, der die höchste Punktzahl erzielt, hat \\ngewonnen. \\nMit acht Spielern können zwei separate Spiele an zwei Tischen gespielt werden, wobei jeder Spieler \\neinen anderen Spieler für jeweils vier Runden als Partner hat (insgesamt 28 Runden). Die Punkte \\nwerden wie oben zusammengerechnet. \\nCHALLENGE UNO \\nBei diesem Spiel werden die Punkte zusammengerechnet, die jeder Spieler in der Hand hält. Wenn ein \\nSpieler eine bestimmte Punktzahl erreicht (zum Beispiel 500), scheidet dieser Spieler aus. Sind nur \\nnoch zwei Spieler übrig geblieben, spielen diese gegeneinander. Der Spieler, der die festgelegte \\nPunktzahl erreicht oder überschreitet, verliert. Der Gewinner dieser Schlußrunde hat das ganze Spiel \\ngewonnen. (Siehe Sonderregeln für UNO MIT ZWEI SPIELERN.) \\nHAUSREGELN \\nIhr könnt auch einige der folgenden \"Hausregeln\" ausprobieren, wenn ihr UNO spielt. \\nUNO FÜR FORTGESCHRITTENE \\nHier gelten dieselben Regeln wie bei UNO, mit folgenden Ausnahmen: \\n1. Legt ein Spieler eine Zieh Zwei Karte ab, kann der nächste Spieler eine weitere Zieh Zwei Karte \\nablegen, wodurch der nächste Spieler 4 Karten ziehen muss. \\n2. Dieselbe Regel gilt für die Zieh Vier Farbenwahlkarten: \\nLegt ein Spieler eine Zieh Vier Farbenwahlkarte ab, kann der nächste Spieler eine weitere Zieh Vier \\nFarbenwahlkarte ablegen, wodurch der nächste Spieler 8 Karten ziehen muss. Der letzte Spieler, der \\neine Zieh Vier Farbenwahlkarte in Folge ablegt, bestimmt die Farbe, mit der weitergespielt wird. Wird \\neine Zieh Vier Farbenwahlkarte \"unerlaubt\" abgelegt und wird der Spieler herausgefordert, gelten die \\nüblichen Regeln (siehe STRAFKARTEN), allerdings nimmt die Anzahl der Strafkarten je nach Anzahl der \\nabgelegten Karten zu. \\n3. Die Spieler können weiterhin Zieh Zwei oder Zieh Vier Farbenwahlkarte in Folge ablegen, solange sie \\nsie in der Hand halten. Haben zum Beispiel 4 Spieler nacheinander Zieh Zwei Karten abgelegt, müsste \\nder nächste Spieler (der keine Zieh Zwei Karte hat) 8 Karten ziehen. \\n4. Wenn Du an der Reihe bist, kannst Du nur eine Zieh Zwei oder Zieh Vier Farbenwahlkarte ablegen, \\nauch wenn Du mehrere dieser Karten in der Hand hältst. \\nSEVEN-O UNO \\nHier gelten dieselben Regeln wie bei UNO, mit folgenden Ausnahmen: \\n1. Jedes Mal wenn eine \"0\" abgelegt wird, müssen alle Spieler die Karten, die sie in der Hand halten, an \\nden nächsten Spieler in Spielrichtung weitergeben. \\n2. Jedes Mal wenn eine \"7\" ablegt wird, muss der Spieler, der die Karte \"7\" abgelegt hat, die Karten, die \\ner in der Hand hält, mit einem anderen Spieler seiner Wahl tauschen.51967 \\nJUMP-IN UNO \\nHier gelten dieselben Regeln wie bei UNO, mit folgenden Ausnahmen: \\nWenn Du genau dieselbe Karte hast (identische Farbe und Zahl), wie die Karten oben auf dem \\nKARTENSTOCK, kannst Du sie sofort ablegen, auch wenn Du gerade nicht an der Reihe bist. Zum \\nBeispiel: Wenn eine \"Blaue 6\" oben auf dem KARTENSTOCK ist und Du eine \"Blaue 6\" in der Hand hast, \\nkannst Du sie ablegen, auch wenn Du nicht an der Reihe bist. Das Spiel wird bei dem Spieler \\nfortgesetzt, der die letzte Karte abgelegt hat (der Spieler, der \"eingegriffen\" hat). \\nZwei wichtige Dinge gilt es zu beachten: \\n1. Wenn Du 2 gleiche Karten in der Hand hast, kannst Du sie mit den Rückseiten aneinander ablegen. \\nSie müssen jedoch einzeln abgelegt werden (erst eine Karte auf dem KARTENSTOCK ablegen und dann \\ndie andere). Dadurch hat ein anderer Spieler die Möglichkeit einzugreifen und zu verhindern, dass Du \\neine zweite Karte ablegst. \\n2. Wenn Du mit einer Aussetzen, Retour, Zieh Zwei oder Zieh Vier Farbenwahlkarte \"eingreifst\", hebt die \\nzweite identische Karte die erste auf. (Für diese Karten gelten die normalen UNO-Regeln. Der Spieler, \\nder die zweite identische Karte abgelegt hat, fängt an.) \\nFür noch mehr Spaß und Spannung kannst Du auch versuchen, die verschiedenen UNO-HAUSREGELN \\nzu kombinieren. Stehen diese Regeln im Widerspruch zueinander, kann DEIN HAUS die beste \\nSpielweise definieren! \\nViel Spaß mit UNO - und möge der beste Spieler oder der Glücklichste gewinnen! \\n©2002 Mattel, Inc. All R ights Reserved. Uno and Mattel Logo are tradenarks of Mattel, Inc.\\n'},\n",
       " {'role': 'user', 'content': 'How many cards each user gets to begin with?'}]"
      ]
     },
     "execution_count": 14,
     "metadata": {},
     "output_type": "execute_result"
    }
   ],
   "source": [
    "messages"
   ]
  },
  {
   "cell_type": "code",
   "execution_count": 15,
   "metadata": {},
   "outputs": [
    {
     "name": "stdout",
     "output_type": "stream",
     "text": [
      "Each player is dealt 7 cards at the beginning of the game.\n"
     ]
    }
   ],
   "source": [
    "\n",
    "from openai import OpenAI\n",
    "client = OpenAI()\n",
    "\n",
    "completion = client.chat.completions.create(\n",
    "    model=\"gpt-4.1-mini\",\n",
    "    messages=messages,\n",
    "    temperature=0\n",
    ")\n",
    "\n",
    "print(completion.choices[0].message.content)"
   ]
  },
  {
   "cell_type": "code",
   "execution_count": 16,
   "metadata": {},
   "outputs": [],
   "source": [
    "second_user_prompt = \"Wie viele Spielkarten gibt es in uno\"\n",
    "\n",
    "messages.append({'role':'user', 'content':second_user_prompt})"
   ]
  },
  {
   "cell_type": "code",
   "execution_count": 17,
   "metadata": {},
   "outputs": [
    {
     "name": "stdout",
     "output_type": "stream",
     "text": [
      "Im UNO-Spiel gibt es insgesamt 108 Spielkarten.\n"
     ]
    }
   ],
   "source": [
    "from openai import OpenAI\n",
    "client = OpenAI()\n",
    "\n",
    "completion = client.chat.completions.create(\n",
    "    model=\"gpt-4.1-mini\",\n",
    "    messages=messages,\n",
    "    temperature=0\n",
    ")\n",
    "\n",
    "print(completion.choices[0].message.content)"
   ]
  },
  {
   "cell_type": "code",
   "execution_count": 18,
   "metadata": {},
   "outputs": [],
   "source": [
    "third_user_prompt = \"Puis-je jouer une carte DRAW TWO sur la carte DRAW TWO d'un autre joueur?\"\n",
    "messages.append({'role':'user', 'content': third_user_prompt})"
   ]
  },
  {
   "cell_type": "code",
   "execution_count": 19,
   "metadata": {},
   "outputs": [
    {
     "name": "stdout",
     "output_type": "stream",
     "text": [
      "Oui, vous pouvez jouer une carte \"Zieh Zwei\" (DRAW TWO) sur une autre carte \"Zieh Zwei\" ou sur une carte de la même couleur.\n"
     ]
    }
   ],
   "source": [
    "from openai import OpenAI\n",
    "client = OpenAI()\n",
    "\n",
    "completion = client.chat.completions.create(\n",
    "    model=\"gpt-4.1-mini\",\n",
    "    messages=messages,\n",
    "    temperature=0\n",
    ")\n",
    "\n",
    "print(completion.choices[0].message.content)"
   ]
  },
  {
   "cell_type": "code",
   "execution_count": null,
   "metadata": {},
   "outputs": [],
   "source": []
  }
 ],
 "metadata": {
  "kernelspec": {
   "display_name": ".venv",
   "language": "python",
   "name": "python3"
  },
  "language_info": {
   "codemirror_mode": {
    "name": "ipython",
    "version": 3
   },
   "file_extension": ".py",
   "mimetype": "text/x-python",
   "name": "python",
   "nbconvert_exporter": "python",
   "pygments_lexer": "ipython3",
   "version": "3.11.5"
  }
 },
 "nbformat": 4,
 "nbformat_minor": 2
}
