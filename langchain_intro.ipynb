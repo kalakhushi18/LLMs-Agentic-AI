{
 "cells": [
  {
   "cell_type": "markdown",
   "metadata": {},
   "source": [
    "### Chat Models and Prompt Templates "
   ]
  },
  {
   "cell_type": "code",
   "execution_count": 1,
   "metadata": {},
   "outputs": [],
   "source": [
    "from langchain.chat_models import init_chat_model\n",
    "\n",
    "model = init_chat_model(\"gemma3:1b\", model_provider=\"ollama\") # giving a model provider which can be openai"
   ]
  },
  {
   "cell_type": "code",
   "execution_count": 2,
   "metadata": {},
   "outputs": [
    {
     "data": {
      "text/plain": [
       "AIMessage(content='The most natural translation of “Hello Germany!” into German would be:\\n\\n**Hallo Deutschland!**\\n\\nYou could also say:\\n\\n*   **Guten Tag Deutschland!** (Formal greeting)\\n\\nBut “Hallo Deutschland!” is perfectly acceptable and common. 😊', additional_kwargs={}, response_metadata={'model': 'gemma3:1b', 'created_at': '2025-05-08T07:59:24.3366146Z', 'done': True, 'done_reason': 'stop', 'total_duration': 8565207000, 'load_duration': 5454224200, 'prompt_eval_count': 24, 'prompt_eval_duration': 1376839800, 'eval_count': 54, 'eval_duration': 1670263900, 'model_name': 'gemma3:1b'}, id='run--04ee1867-6eff-4b83-80d2-2ef9c7956937-0', usage_metadata={'input_tokens': 24, 'output_tokens': 54, 'total_tokens': 78})"
      ]
     },
     "execution_count": 2,
     "metadata": {},
     "output_type": "execute_result"
    }
   ],
   "source": [
    "messages = [\n",
    "    {\"role\": \"system\", \"content\": \"Translate the following from English into German\"},\n",
    "    {\"role\": \"user\", \"content\": \"Hello Germany!\"},\n",
    "]\n",
    "\n",
    "model.invoke(messages)  # first message invoked using the model"
   ]
  },
  {
   "cell_type": "code",
   "execution_count": 3,
   "metadata": {},
   "outputs": [
    {
     "data": {
      "text/plain": [
       "ChatPromptValue(messages=[SystemMessage(content='Give the information about Fachhochschule Kiel', additional_kwargs={}, response_metadata={}), HumanMessage(content='Student Registration Process details', additional_kwargs={}, response_metadata={})])"
      ]
     },
     "execution_count": 3,
     "metadata": {},
     "output_type": "execute_result"
    }
   ],
   "source": [
    "from langchain_core.prompts import ChatPromptTemplate\n",
    "\n",
    "system_template  = \"Give the information about {university}\"\n",
    "\n",
    "prompt_template = ChatPromptTemplate.from_messages(\n",
    "    [(\"system\", system_template), (\"user\", \"{text}\")]\n",
    ")\n",
    "\n",
    "prompt = prompt_template.invoke({\"university\": \"Fachhochschule Kiel\", \"text\": \"Student Registration Process details\"})\n",
    "\n",
    "prompt\n"
   ]
  },
  {
   "cell_type": "code",
   "execution_count": 4,
   "metadata": {},
   "outputs": [
    {
     "data": {
      "text/plain": [
       "\"Okay, let's break down the student registration process at the Fachhochschule Kiel (University of Applied Sciences and Technology, Kiel). It’s a bit involved, but here’s a detailed overview, covering key steps and important details:\\n\\n**1. Application Process (Generally Starts in Winter Semester - November/December):**\\n\\n* **Online Application:** The primary way to apply is through the official Fachhochschule Kiel website: [https://www.fachhochschule-kiell.de/](https://www.fachhochschule-kiell.de/)\\n* **Application Types:**\\n    * **Standard Application:** This is the most common option. It requires you to fill out a detailed application form with all required information.\\n    * **Accelerated Application:** For students with a strong academic record, you can apply faster.  It involves submitting transcripts, standardized test scores (like TOEFL/IELTS for international students), and a personal statement.\\n* **Required Documents:**  Be prepared to submit the following (this may change slightly each year, so *always* check the official website for the most up-to-date list):\\n    * **Application Form:** Completed accurately and legibly.\\n    * **Passport/ID:** Original passport or ID card.\\n    * **Transcripts:** Official transcripts from all previous educational institutions.  (Typically, they need to be in English or German, depending on the country of origin).\\n    * **Proof of Language Proficiency:**  This is *crucial* for many programs.  You'll likely need:\\n        * **TOEFL/IELTS:**  Minimum scores required vary by program.\\n        * **German Language Proficiency:**  Depending on the program, you may need a certificate demonstrating your German language skills (e.g., DSH-Certifikat).\\n    * **Motivation Letter:** A detailed explanation of why you want to study at the Fachhochschule Kiel, what you’ll study, and your career goals. This is *very* important.\\n    * **Letters of Recommendation (potentially):**  Depending on your application, you might need letters from professors or employers.\\n    * **Passport Photos:** Recent passport-sized photos.\\n* **Deadline:** Registration opens in the fall (typically November/December). You *must* register before the deadline to be considered. The exact deadline varies by program.\\n\\n**2.  Specific Programs & Registration Steps (Examples - *ALWAYS* check the program-specific details on the website):**\\n\\n* **Different Program Types:**  The registration process can vary significantly depending on the type of program (e.g., Bachelor's, Master’s, PhD).\\n* **Degree Programs:**  They typically have specific requirements and timelines.\\n* **International Students:**  International students face extra requirements, including proving their visa status and demonstrating sufficient financial resources.\\n* **Admission Stages:**\\n    * **Initial Review:**  Your application will be reviewed by the Admissions Committee.\\n    * **Interview (Possibly):** Some programs might require a video or live interview.\\n    * **Financial Aid Application:**  If you need financial assistance, you'll need to complete a detailed financial aid application.\\n    * **Campus Visit (Possibly):** Some programs may require you to visit the campus.\\n* **Registration Portal:** Once you’re accepted, you’ll be directed to the Fachhochschule Kiel registration portal.\\n\\n**3. Key Registration Resources:**\\n\\n* **Fachhochschule Kiel Website:** [https://www.fachhochschule-kiell.de/](https://www.fachhochschule-kiell.de/) - This is the *primary* resource for all information.\\n* **Study Portal:** [https://study.fachhochschule-kiell.de/](https://study.fachhochschule-kiell.de/) - A comprehensive guide with FAQs, timelines, and helpful information.\\n* **Student Affairs Office:** Contact the Student Affairs Office directly if you have any questions – they are a crucial point of contact. You can find contact details on the website.\\n\\n**4. Important Tips for Success:**\\n\\n* **Start Early:** Don’t wait until the last minute! The application process takes time.\\n* **Be Organized:** Keep track of all your documents and deadlines.\\n* **Proofread Carefully:**  Ensure your application is free of grammatical errors and typos.\\n* **Meet Deadlines:**  Absolutely crucial!\\n* **Clarify Requirements:**  Carefully read the specific requirements for each program you're applying to.\\n\\n**Resources for Specific Programs (General Examples - *Again, check the program website*):**\\n\\n* **Business Administration:**  Often have specialized requirements.\\n* **Computer Science:**  May require a strong mathematical foundation.\\n* **Health Sciences:**  Need to demonstrate a clear interest in the field.\\n\\n**To help me give you even more specific information, could you tell me:**\\n\\n*   **What program are you interested in?** (e.g., Bachelor's in Engineering, Master's in Psychology, etc.)\\n*   **What country are you from?** (This helps me give you more relevant information about language requirements, etc.)\""
      ]
     },
     "execution_count": 4,
     "metadata": {},
     "output_type": "execute_result"
    }
   ],
   "source": [
    "response = model.invoke(prompt)\n",
    "\n",
    "response.content"
   ]
  },
  {
   "cell_type": "code",
   "execution_count": null,
   "metadata": {},
   "outputs": [],
   "source": []
  }
 ],
 "metadata": {
  "kernelspec": {
   "display_name": ".venv",
   "language": "python",
   "name": "python3"
  },
  "language_info": {
   "codemirror_mode": {
    "name": "ipython",
    "version": 3
   },
   "file_extension": ".py",
   "mimetype": "text/x-python",
   "name": "python",
   "nbconvert_exporter": "python",
   "pygments_lexer": "ipython3",
   "version": "3.11.5"
  }
 },
 "nbformat": 4,
 "nbformat_minor": 2
}
