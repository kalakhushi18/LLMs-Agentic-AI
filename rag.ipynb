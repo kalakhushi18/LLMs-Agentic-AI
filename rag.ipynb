{
 "cells": [
  {
   "cell_type": "markdown",
   "metadata": {},
   "source": [
    "### Retrieval-Augmented Generation (RAG)\n",
    "\n",
    "Retrieval-Augmented Generation (RAG) is a method in natural language processing (NLP) that combines two key components:\n",
    "\n",
    "Retrieval: Searches for relevant documents or data (from a database, knowledge base, or other sources) based on the input query.\n",
    "Generation: Uses a language model (like GPT) to generate a response by conditioning on both the input query and the retrieved information."
   ]
  },
  {
   "cell_type": "code",
   "execution_count": 5,
   "metadata": {},
   "outputs": [],
   "source": [
    "#importing json file for context \n",
    "\n",
    "import json\n",
    "\n",
    "with open('kieler_woche.json', \"r\", encoding='utf-8') as input_file:    \n",
    "    knowledge_base = json.load(input_file)\n",
    "\n",
    "# knowledge_base"
   ]
  },
  {
   "cell_type": "code",
   "execution_count": 9,
   "metadata": {},
   "outputs": [
    {
     "name": "stdout",
     "output_type": "stream",
     "text": [
      "Event Name: Segelcamp\n",
      "Date: 2025-6-20\n",
      "Time: 09:00 - 10:00\n",
      "Location: Kiellinie\n",
      "Description: Annual sailing camp in Kiel offering over 30 sailing courses for children (ages 6–16) and adults. Children learn on Optimists and Aira yachts, led by expert instructors. Adults can enjoy evening and weekend sailing experiences. Registration needed for many courses, but spontaneous participation is possible on open camp weekends.\n"
     ]
    }
   ],
   "source": [
    "event_texts = []\n",
    "for event in knowledge_base:\n",
    "    # Build a single string for each event\n",
    "    text = f\"Event Name: {event['event_name']}\\nDate: {event['date']}\\nTime: {event['time']}\\nLocation: {event['location']}\\nDescription: {event['description']}\"\n",
    "    event_texts.append(text)\n",
    "\n",
    "# Now event_texts is a list of strings ready for embedding\n",
    "print(event_texts[0])"
   ]
  },
  {
   "cell_type": "markdown",
   "metadata": {},
   "source": [
    "\n",
    "Pulling the embed model in terminal: ollama pull nomic-embed-text \n",
    "Embedding Model: nomic-embed-text"
   ]
  },
  {
   "cell_type": "code",
   "execution_count": 7,
   "metadata": {},
   "outputs": [
    {
     "name": "stdout",
     "output_type": "stream",
     "text": [
      "[[-0.0412678, 0.06608027, -0.17816535, -0.016620873, 0.021247312, -0.026373042, -0.0119793, 0.017040977, -0.010252768, -0.031976502, 0.050766386, -0.019003214, 0.045599326, -0.008368952, 0.012151578, 0.020968186, -0.040141094, -0.062134974, -0.030790789, -0.0075722127, -0.016742721, -0.02944686, -0.011470461, 0.032471623, 0.089676574, 0.053600688, -0.027177105, 0.019489678, -0.0077709737, 0.058896177, 0.07544069, -0.028481, 0.021120152, 0.010174547, 0.04322997, 0.03385851, -0.005307172, 0.011571915, -0.005141447, 0.001718461, 0.041858558, 0.0096085835, 0.031938963, -0.0054821237, 0.048820492, -0.07657891, 0.02049179, 0.044661, 0.050678246, -0.0710807, -0.020452922, -0.028743252, -0.026590513, 0.008545458, 0.06534198, -0.019189123, -0.018014386, -0.011383249, 0.007945101, 0.016238298, 0.085204676, 0.030184733, 0.0013785248, 0.06265975, 0.019743983, 0.05231329, -0.012230805, 0.07120509, -0.008263331, -0.012082112, 0.057253916, 0.0058059525, -0.002888794, 0.012905656, -0.019585324, 0.019990604, -0.0016607016, -0.07573673, -0.0099796895, 0.0013075592, 0.0123156775, -0.027479094, 0.084798686, -0.055033784, 0.05857358, -0.027080594, 0.023076644, -0.023835165, -0.0053305947, 0.078584954, -0.010085961, 0.035536382, -0.018211894, 0.034666874, -0.03469386, -0.0010370553, 0.015430388, 0.008114884, -0.09678115, 0.030502703, -0.050638314, -0.027241599, -0.050083663, 0.004569156, 0.07357832, -0.0062419674, -0.02471076, -0.027242959, -0.015000346, 0.018928153, 0.010696231, 0.023728523, -0.007865206, -0.03750542, 0.009535529, 0.018972544, 0.0771173, -0.07044428, 0.07469157, -0.008286079, -0.004989917, -0.0005061613, 0.008555671, -0.033391863, 0.002612169, -0.0056555807, -0.040461, -0.01843859, -0.03561249, -0.05851756, -0.013578558, 0.00016968691, -0.03865357, -0.004986869, 0.028734932, 0.022910757, -0.028065663, -0.057998393, -0.001409081, 0.019595165, 0.012088045, -0.015934434, -0.0039273473, 0.024072656, 0.0067448225, -0.03987958, 0.043409605, 0.01425703, 0.004500146, -0.009989415, 0.0109985005, 0.0071778125, -0.010850778, 0.057738453, -0.010331131, -0.043136988, -0.035743, -0.046831146, 0.06307366, 0.021072445, 0.016324908, 0.025506385, -0.070373125, 0.02858061, 0.034614604, -0.060271345, 0.04675323, 0.049140282, 0.055443164, 0.006505168, -0.10275972, -0.060157567, 0.0060535776, 0.0027722844, 0.0013997512, -0.07002513, -0.005948654, -0.020960456, 0.030426932, 0.017616117, 0.062255505, -0.031791236, -0.0021939555, 0.031437024, -0.041014507, 0.0070909797, -0.031664867, 0.0066709043, -0.019101612, -0.017291537, 0.027297767, -0.01417673, -0.07523306, -0.0031661384, -0.057303503, -0.013523587, 0.029593598, 0.010831996, 0.0610478, -0.046668623, -0.032505956, -0.00789597, -0.033085342, 0.047345284, 0.023105107, 0.053231597, -0.019036336, 0.034035455, -0.00078238593, 0.012167524, 0.061492678, 0.019094894, 0.018495115, 0.014948569, 0.019755874, 0.022318278, -0.021426694, -0.059295457, -0.006450037, 0.016208231, 0.06675737, 0.010550101, 0.034080252, -0.0067293006, 0.045211338, -0.097247206, -0.04021984, 0.042531174, -0.0014341401, 0.050981753, -0.021299645, -0.03418179, 0.014487767, 0.025311017, -0.0014789284, 0.015924871, -0.011274654, 0.05762531, -0.001994143, -0.025995255, -0.012364844, 0.0032388126, -0.03253372, -0.053495146, -0.06450208, 0.00032035148, -0.06110714, -0.035048526, -0.03405801, -0.026348323, 0.03151787, 0.051857535, 0.0017528379, -0.04998232, 0.021405792, 0.015204705, 0.0045440234, -0.018353056, 0.017001731, -0.02302866, 0.06840835, -0.043626294, 0.027772171, -0.04667559, 0.03879596, 0.033335347, -0.04609937, -0.011573046, 0.0022762958, -0.06348828, -0.017132534, 0.05219095, -0.0044287704, 0.018439919, 0.0023945635, 0.0017395732, 0.00427886, 0.02953561, -0.04801299, 0.033022888, -0.05936921, 0.010897974, -0.037056092, 0.016694825, 0.025934989, 0.022519946, 0.008168162, 0.013393064, 0.051526453, 0.0039946535, 0.066074446, 0.043836776, 0.01739544, 0.09367229, -0.057347175, -0.010330841, 0.0059349635, -0.00018222151, -0.04921726, 0.0081885755, 0.03853945, 0.0075693303, 0.035029616, 0.025437742, -0.0029379306, -0.045442905, 0.04499225, 0.027917273, 0.022300461, -0.008692428, -0.029232198, 0.0007615884, -0.04308672, -0.044927325, -0.0470974, -0.010958623, -0.0050921133, -0.0071033305, 0.040712826, -0.035683993, -0.043702293, 0.0064159483, -0.06610844, -0.048872467, -0.011561295, 0.016690545, -0.01638496, 0.011093963, 0.018257232, -0.033804093, -0.010937239, 0.05975793, 0.031001624, -0.016951026, 0.029541122, 0.010173163, 0.031238534, -0.016686492, -0.009841843, 0.014856557, 0.01059664, 0.0032454468, -0.013657875, -0.03112032, -0.04221955, 0.0075912722, 0.036123414, -0.06473459, 0.025489451, 0.008131746, -0.039364785, 0.007699988, -0.04734558, 0.028243642, -0.026745576, -0.015565741, -0.012126294, -0.010238317, 0.038721763, 0.0054359566, 0.003878722, 0.020229654, -0.02499271, -0.02673079, -0.015573189, -0.018315073, 0.060212277, -0.012993126, 0.0035370232, 0.013439851, 0.00060968735, 0.0051144483, 0.05767794, 0.025944607, 0.008909168, 0.00813366, -0.09534183, 0.016987426, 0.0006163434, -0.01658249, 0.009774293, -0.021119406, 0.008072512, -0.012329422, -0.016104458, 0.0152788535, 0.018258633, -0.035784293, -0.018841758, 0.03781653, -0.054928593, -0.0134145515, -0.065145336, 0.0029834993, -0.026197877, 0.005830544, 0.050912444, 0.014148241, -0.0034076015, 0.04546889, -0.027739342, -0.057887826, -0.04304875, -0.09450202, -0.016420104, 0.003053983, -0.033663906, 0.008183975, 0.05958529, 0.038071893, 0.061930414, 0.048771683, 0.05645217, -0.02311164, 0.044071984, 0.008214924, 0.046449594, 0.0120248925, 0.022981787, -0.032471437, 0.02786915, -0.017432436, 0.03827077, -0.0148823075, 0.015140184, 0.02245164, 0.04935663, 0.041989796, -0.034918953, -0.036523897, -0.0105146235, 0.013320073, 0.018805778, -0.042394057, -0.035594836, 0.01082741, 0.0329711, 0.022929149, -0.00489622, -0.00326921, 0.03150259, 0.01716362, 0.005571601, -0.016915077, 0.005839002, 0.07319017, 0.077897556, 0.00053212966, -0.019261193, -0.050239943, 0.052401923, 0.023372699, 0.03904167, 0.039445806, 0.09839194, -0.0023077284, -0.029036617, 0.04264665, 0.07942029, 0.026891926, 0.0131584415, -0.028811593, -0.03700951, 0.039055396, 0.034109782, 0.005879229, -0.031787686, -0.06529396, 0.032027118, 0.04522479, 0.041104645, 0.03423585, 0.023625404, -0.025154088, -0.06545799, 0.01843854, -0.014099311, 0.013205144, 0.0044626147, 0.043706127, 0.004451784, -0.03011342, -0.031380918, -0.06211652, -0.012013347, 0.033150975, 0.047861826, -0.006198899, -0.01338214, -0.029448815, 0.03546768, 0.0030056606, -0.0078765545, -0.007548146, 0.05911473, -0.026707008, -0.0018270124, -0.035369482, 0.03980008, -0.07657754, 0.016047625, 0.03382395, 0.0024449187, 0.008470925, -0.024141867, 0.05168189, 0.034368034, -0.06654836, -0.020519791, 0.035274286, -0.023680044, -0.008734906, -0.058632042, 0.038325455, -0.0031017726, -0.018754914, 0.029535973, 0.039769974, -0.048240464, 0.034919467, 0.0031399366, -0.03803345, -0.0028426568, -0.021399574, -0.07681768, 0.009167881, 0.008569422, -0.018035995, 0.041060664, 0.010138497, 0.0031594136, -0.025880756, -0.06768935, -0.017065436, -0.036581136, 0.004722574, -0.058025483, 0.039927937, 0.095248364, -0.009430261, -0.009188687, -0.02976658, 0.01846638, -0.04116542, -0.015441229, 0.00029206145, -0.064959444, 0.015136699, -0.03580252, -0.026517963, 0.0032621587, -0.0677807, 0.017784975, -0.015285085, 0.009429611, -0.0065128966, -0.023490706, 0.036892198, -0.05295265, 0.04660467, 0.024017872, -0.01415049, 0.08577515, 0.0037967823, 0.013957001, -0.00015554657, -0.0032113006, -0.025523812, -0.009424752, -0.023176257, 0.021254392, -0.05225009, 0.03165649, 0.041260432, 0.051288612, -0.04734835, 0.019953836, 0.0066512804, -0.01588755, -0.020877894, 0.04954032, -0.05544275, 0.057445865, 0.033778824, -0.009675373, 0.011975098, -0.016542587, 0.011364043, 0.031523086, -0.05070611, -0.0022586945, 0.012040195, -0.0071635554, -0.055551335, -0.008026877, -0.0045450893, -0.053565018, -0.055696767, -0.025161339, -0.063321024, -0.030335803, 0.006413945, -0.000386075, -0.006387802, -0.012980983, 0.07299824, 0.0079653375, -0.024567632, 0.021637395, -0.01099344, 0.0050075306, -0.011650616, -0.029858554, -0.032515932, -0.008264468, -0.016269904, 0.050630976, -0.03290234, -0.014553431, -0.024193179, -0.012782162, -0.034634598, 0.03145333, 0.026291579, 0.041681617, -0.0017565192, -0.03767072, -0.053442366, -0.0024407401, 0.040691286, 0.014857513, 0.041114166, -0.054017708, -0.036326062, -0.058537036, 0.011426405, -0.024246583, -0.030407345, -0.0058687115, 0.0024511814, 0.038163424, 0.013222451, -0.05191828, 0.04988681, 0.08835805, -0.044135183, 0.06187661, 0.02486493, 0.036448967, -0.013633791, 0.013912841, 0.03778334, 0.08206281, -0.036598984, 0.015218085, -0.017898694, 0.036001913, 0.01301927, -0.01967219, -0.0377318, 0.0067807953, -0.0033589664, -0.0018009847, 0.03941848, 0.0011972728, -0.027116027, -0.031816423, 0.06481892, -0.101440415, -0.010394373, 0.058279637, 0.04134475, -0.03799962, -0.053485975, 0.033610314, 0.025240794, 0.026071554, 0.05392385, 0.0032481735, -0.041071557, -0.04130065, -0.019681754, 0.034435086, 0.008945979, 0.03591145, -0.006315791, -0.003951342, -0.030349359, 0.015162438, -0.07736518, -0.017234603, -0.052318797, -0.008305996, -0.0148696, -0.012834823, -0.0053686476, -0.047729123, -0.028798632, -0.0065963143, 0.015947243, -0.04815527, 0.013101576, 0.003484567, 0.057967782, 0.0135470135, 0.0020987724, 0.016108146, 0.031619675, -0.011585715, -0.026363693, -0.023602325, 0.021913689, -0.023464493, 0.013729175, 0.053023238, 0.0013498873, -0.051859725, 0.00913104, 0.011437691, 0.032076385, 0.05093149, -0.019505955, -0.07469037, 0.008929472, 0.0013388764, -0.0288751, 0.021965101, -0.029914392, -0.017326768, -0.009542405, 0.0523641, -0.015466327, -0.05211846, 0.039190955, 0.006822638, 0.022708388, -0.009397459, -0.009419303, -0.009150503, 0.019643053, -0.055816486, -0.0048563285, -0.018861504, 0.041447524, 0.0032946263, -0.013877194, 0.0054077045, -0.006625462, 0.0042636483, -0.03272295, -0.009013746, -0.033444177, -0.028849108, -0.039636895, -0.0053454377, 0.03586896, 0.005278589, 0.032368165, 0.11660102, 0.022171078, -0.005525499, -0.027961513, 0.039626677, 0.057603788, -0.03995316, -0.020592242, -0.01739415, 0.03124988]]\n",
      "768\n"
     ]
    }
   ],
   "source": [
    "from ollama import embed\n",
    "\n",
    "# Generate an embedding for a single input\n",
    "response = embed(model='nomic-embed-text', input='opencampus is the best!')\n",
    "\n",
    "# Access the embedding vector\n",
    "embedding = response['embeddings']\n",
    "print(embedding)\n",
    "print(len(embedding[0]))"
   ]
  },
  {
   "cell_type": "code",
   "execution_count": 10,
   "metadata": {},
   "outputs": [
    {
     "name": "stdout",
     "output_type": "stream",
     "text": [
      "15 768 768\n"
     ]
    }
   ],
   "source": [
    "# Generate an embedding for a batch input\n",
    "response = embed(model='nomic-embed-text', input= event_texts)\n",
    "\n",
    "# Access the embedding vectors\n",
    "embedding = response['embeddings']\n",
    "\n",
    "print(len(embedding), len(embedding[0]), len(embedding[0]))"
   ]
  },
  {
   "cell_type": "code",
   "execution_count": 11,
   "metadata": {},
   "outputs": [],
   "source": [
    "import numpy as np \n",
    "vectors = np.array(embedding)\n",
    "\n",
    "query = np.array(embed(model='nomic-embed-text', input='I am interested in Music Concerts in Kieler Woche')['embeddings'])"
   ]
  },
  {
   "cell_type": "markdown",
   "metadata": {},
   "source": [
    "Euclidean Distance"
   ]
  },
  {
   "cell_type": "code",
   "execution_count": 12,
   "metadata": {},
   "outputs": [
    {
     "name": "stdout",
     "output_type": "stream",
     "text": [
      "Closest vector index: 5\n",
      "Distance: 0.750716302887151\n",
      "Sorted indices by distance: [ 5  1  2 13 10 14  6 12  0  3  7  8  9  4 11]\n"
     ]
    }
   ],
   "source": [
    "# Compute Euclidean distances\n",
    "differences = vectors - query  # shape: (n_vectors, vector_dim)\n",
    "distances = np.linalg.norm(differences, axis=1)\n",
    "\n",
    "# Index of closest vector\n",
    "closest_index = np.argmin(distances)\n",
    "\n",
    "# Sorted indices by distance\n",
    "sorted_indices = np.argsort(distances)\n",
    "\n",
    "print(\"Closest vector index:\", closest_index)\n",
    "print(\"Distance:\", distances[closest_index])\n",
    "print(\"Sorted indices by distance:\", sorted_indices)"
   ]
  },
  {
   "cell_type": "code",
   "execution_count": 14,
   "metadata": {},
   "outputs": [
    {
     "name": "stdout",
     "output_type": "stream",
     "text": [
      "Event Name: STILLaLIVE Concert at Kiel Week\n",
      "Date: 2025-06-22\n",
      "Time: 10:00\n",
      "Location: Sailing Arena Schilksee\n",
      "Description: Popular live band STILLaLIVE from Lower Saxony and Hamburg performs energetic shows with hits from the 80s, 90s, 2000s, and today — 100% live, creating a lively atmosphere for singing, dancing, and celebrating at Kiel Week.\n"
     ]
    }
   ],
   "source": [
    "print(event_texts[closest_index])"
   ]
  },
  {
   "cell_type": "code",
   "execution_count": 16,
   "metadata": {},
   "outputs": [
    {
     "name": "stdout",
     "output_type": "stream",
     "text": [
      "1 Event Name: STILLaLIVE Concert at Kiel Week\n",
      "Date: 2025-06-22\n",
      "Time: 10:00\n",
      "Location: Sailing Arena Schilksee\n",
      "Description: Popular live band STILLaLIVE from Lower Saxony and Hamburg performs energetic shows with hits from the 80s, 90s, 2000s, and today — 100% live, creating a lively atmosphere for singing, dancing, and celebrating at Kiel Week.\n",
      "\n",
      "2 Event Name: Waterkant Festival\n",
      "Date: 2025-06-20\n",
      "Time: 10:00 - 20:00\n",
      "Location: Kiellinie\n",
      "Description: Innovation festival in Kiel gathering startups, business leaders, and experts. Over 90 sessions on AI, work future, oceans, energy, and democracy. Includes talks, workshops, and live music by the fjord. A place for networking, inspiration, and launching new ideas.\n",
      "\n",
      "3 Event Name: OCEAN PARTY\n",
      "Date: 2025-06-21\n",
      "Time: 19:30\n",
      "Location:  Bootshafen Kiel-Mitte\n",
      "Description: Kiel Week kicks off with a high-energy Ocean Party featuring DJ MOISI, a spectacular light show, fire fountains, and heavy electronic beats at the SunExpress Ocean Funpark — perfect for dancing and summer vibes.\n",
      "\n",
      "4 Event Name: Music Theater\n",
      "Date: 2025-06-26\n",
      "Time: 18:00\n",
      "Location: Düsternbrooker \n",
      "Description: A special music theater event for culture and dance\n",
      "\n",
      "5 Event Name: Exhibition: Church Windows in Northern Germany\n",
      "Date: 2025-06-25\n",
      "Time: 10:00\n",
      "Location: Kiellinie\n",
      "Description: From June 15 to July 5, 2025, photographer Jan Petersen exhibits large-format photos of church windows from Hamburg and Schleswig-Holstein, showcasing styles from the 13th century to modern times. A journey through regional art and architecture.\n",
      "\n",
      "6 Event Name: ZENO\n",
      "Date: 2025-06-27\n",
      "Time: 10:00\n",
      "Location: Professor-Peters-Platz\n",
      "Description: Zeno, a well-known figure in Kiel's club scene, hosts the DYNAMITE event series, delivering a vibrant mix of electronic beats, pop classics, and chart hits. His energetic sets get every crowd dancing and sweating..\n",
      "\n",
      "7 Event Name: Open camp\n",
      "Date: 2025-06-23\n",
      "Time: 10:00\n",
      "Location: Bootshafen\n",
      "Description: During Kiel Week (June 21–29, 2025), visitors of almost all ages can spontaneously join short sailing tours at the Open Camp on the Kiellinie. Family activities like table tennis, table football, and beach volleyball are also available. No prior registration needed for sailing (depending on weather and availability).\n",
      "\n",
      "8 Event Name: SchietwetterCup - Rugby Tournament\n",
      "Date: 2025-06-26\n",
      "Time: 10:00\n",
      "Location: Professor-Peters-Platz\n",
      "Description: Northern Germany’s largest 7s rugby tournament takes place in Kiel on the penultimate weekend of June. Teams from Germany, the Baltics, and across Europe compete, with participation from Navy teams and players from countries like Fiji and England. Spectators are welcome for an exciting sports experience.\n",
      "\n",
      "9 Event Name: Segelcamp\n",
      "Date: 2025-6-20\n",
      "Time: 09:00 - 10:00\n",
      "Location: Kiellinie\n",
      "Description: Annual sailing camp in Kiel offering over 30 sailing courses for children (ages 6–16) and adults. Children learn on Optimists and Aira yachts, led by expert instructors. Adults can enjoy evening and weekend sailing experiences. Registration needed for many courses, but spontaneous participation is possible on open camp weekends.\n",
      "\n",
      "10 Event Name: Aalregatta Sailing Event\n",
      "Date: 2025-06-21\n",
      "Time: 10:00\n",
      "Location: Bootshafen\n",
      "Description: Traditional sailing regatta hosted by Segelclub Eckernförde and Kieler Yacht-Club. Starts at 9 AM from Düsternbrook, with races in Kiel Fjord and Eckernförde Bay. The band United4 performs exclusively for participants on Saturday evening.\n",
      "\n",
      "11 Event Name: International Cities Forum: Education as a Key to Participation\n",
      "Date: 2025-06-23\n",
      "Time: 18:00\n",
      "Location: Lorentzendamm\n",
      "Description: Delegations from Kiel’s partner cities meet to discuss education’s role in promoting inclusion and societal cohesion. Public panel discussion after registration. Focus on global practices and exchanging ideas for better educational systems.\n",
      "\n",
      "12 Event Name: Camp Marine\n",
      "Date: 2025-06-24\n",
      "Time: 10:00\n",
      "Location: Kiellinie\n",
      "Description: Free outdoor movie screening for families and students.\n",
      "\n",
      "13 Event Name: Galli Theater - Interactive Fairy Tale Performances\n",
      "Date: 2025-06-24\n",
      "Time: 18:00\n",
      "Location: Bootshafen\n",
      "Description: Every day, the Galli Theater hosts a new interactive fairy tale play where children join in, laugh, and act out parts of the story. Audience participation is essential, making kids a part of the adventure.\n",
      "\n",
      "14 Event Name: Summer Market at Friedrichsort Fortress\n",
      "Date: 2025-06-22\n",
      "Time: 18:00\n",
      "Location: Christianspries\n",
      "Description: Art and crafts market at the historic Friedrichsort fortress near Falckenstein Beach. Local artists sell works in glass, jewelry, ceramics, and more. Open 11 AM–5 PM. Accessible by bus or ferry. Free entry; parking available for a small fee. Event moves inside in case of bad weather.\n",
      "\n",
      "15 Event Name:  Children’s Tour: Secrets of Seafaring\n",
      "Date: 2025-06-25\n",
      "Time: 18:00\n",
      "Location: Schifffahrtsmuseum\n",
      "Description: A special museum tour for children (ages 5+) at the historic Fish Hall, exploring how sailors navigated the oceans and how items like the Seehund submarine ended up in museums. Ends with a visit to a cabinet of curiosities full of maritime mysteries.\n",
      "\n"
     ]
    }
   ],
   "source": [
    "# Sort festival_talks according to the sorted_indices\n",
    "sorted_events = [event_texts[i] for i in sorted_indices]\n",
    "\n",
    "# Optionally print it\n",
    "for num, talk in enumerate(sorted_events):\n",
    "    print(num+1, talk)\n",
    "    print()"
   ]
  },
  {
   "cell_type": "code",
   "execution_count": 17,
   "metadata": {},
   "outputs": [],
   "source": [
    "# k = 3 (number of docs to retrieve)\n",
    "\n",
    "retrieved_events = sorted_events[:3]"
   ]
  },
  {
   "cell_type": "code",
   "execution_count": 18,
   "metadata": {},
   "outputs": [
    {
     "data": {
      "text/markdown": [
       "Okay, here’s a breakdown of events in Kiel Week based on the provided information:\n",
       "\n",
       "*   **StillaLIVE Concert:** Scheduled for June 22, 2025, at the Sailing Arena Schilksee.\n",
       "*   **Waterkant Festival:** Scheduled for June 20, 2025, from 10:00 to 20:00, at the Kiellinie.  It’s an innovation festival with talks, workshops, and live music.\n",
       "*   **OCEAN PARTY:** Scheduled for June 21, 2025, from 19:30, at Bootshafen Kiel-Mitte. It features DJ MOISI, a light show, and fire fountains.\n",
       "\n",
       "Do you want me to elaborate on any of these events, or perhaps provide more details (e.g., genre of music, specific activities)?"
      ],
      "text/plain": [
       "<IPython.core.display.Markdown object>"
      ]
     },
     "metadata": {},
     "output_type": "display_data"
    }
   ],
   "source": [
    "from ollama import chat\n",
    "from IPython.display import Markdown, display\n",
    "\n",
    "retrieved_content = '\\n\\n'.join(retrieved_events)\n",
    "\n",
    "chat_response = chat(model='gemma3:1b', messages=[\n",
    "    {\n",
    "    'role': 'user',\n",
    "    'content': 'User Question:\\nI am interested in Music Concerts in Kieler Woche\\n\\n' + 'Answer the user question on events in Kiel Week Festival as best as you can based on the retrieved events information\\n\\nRetrieved content:\\n\\n' + retrieved_content,\n",
    "    },\n",
    "])\n",
    "\n",
    "display(Markdown(chat_response.message.content))"
   ]
  },
  {
   "cell_type": "markdown",
   "metadata": {},
   "source": [
    "Cosine Similarity (dot product)"
   ]
  },
  {
   "cell_type": "code",
   "execution_count": 21,
   "metadata": {},
   "outputs": [
    {
     "name": "stdout",
     "output_type": "stream",
     "text": [
      "Closest vector index: 5\n",
      "Cosine Similarity: 0.7182124730874978\n",
      "Sorted indices by similarity: [ 5  1  2 13 10 14  6 12  0  3  7  8  9  4 11]\n"
     ]
    }
   ],
   "source": [
    "import numpy as np\n",
    "\n",
    "# Example dummy vectors and query\n",
    "# vectors = np.array([...])  # shape: (n_vectors, vector_dim)\n",
    "# query = np.array([...])    # shape: (vector_dim,)\n",
    "\n",
    "# Normalize vectors and query\n",
    "vectors_norm = vectors / np.linalg.norm(vectors, axis=1, keepdims=True)\n",
    "query_norm = (query / np.linalg.norm(query)).reshape(-1)\n",
    "\n",
    "# Compute cosine similarities\n",
    "cosine_similarities = np.dot(vectors_norm, query_norm)  # shape: (n_vectors,)\n",
    "\n",
    "# Since higher similarity is better, we want argmax\n",
    "closest_index_cosine = np.argmax(cosine_similarities)\n",
    "\n",
    "# Sorted indices (highest similarity first)\n",
    "sorted_indices_cosine = np.argsort(-cosine_similarities)\n",
    "\n",
    "print(\"Closest vector index:\", closest_index_cosine)\n",
    "print(\"Cosine Similarity:\", cosine_similarities[closest_index_cosine])\n",
    "print(\"Sorted indices by similarity:\", sorted_indices_cosine)\n"
   ]
  },
  {
   "cell_type": "markdown",
   "metadata": {},
   "source": [
    "Manhattan Distance (L1 distance)"
   ]
  },
  {
   "cell_type": "code",
   "execution_count": 22,
   "metadata": {},
   "outputs": [
    {
     "name": "stdout",
     "output_type": "stream",
     "text": [
      "Closest vector index: 5\n",
      "Manhattan Distance: 16.5054379296065\n",
      "Sorted indices by distance: [ 5 13  1  2 14 10  6  0 12  3  7  8  4  9 11]\n"
     ]
    }
   ],
   "source": [
    "# Compute Manhattan (L1) distances\n",
    "differences = np.abs(vectors - query)  # element-wise absolute difference\n",
    "distances = np.sum(differences, axis=1)\n",
    "\n",
    "# Index of closest vector\n",
    "closest_index_manahttan = np.argmin(distances)\n",
    "\n",
    "# Sorted indices by distance\n",
    "sorted_indices_manahttan = np.argsort(distances)\n",
    "\n",
    "print(\"Closest vector index:\", closest_index_manahttan)\n",
    "print(\"Manhattan Distance:\", distances[closest_index_manahttan])\n",
    "print(\"Sorted indices by distance:\", sorted_indices_manahttan)\n"
   ]
  },
  {
   "cell_type": "code",
   "execution_count": 23,
   "metadata": {},
   "outputs": [
    {
     "name": "stdout",
     "output_type": "stream",
     "text": [
      "1 Event Name: STILLaLIVE Concert at Kiel Week\n",
      "Date: 2025-06-22\n",
      "Time: 10:00\n",
      "Location: Sailing Arena Schilksee\n",
      "Description: Popular live band STILLaLIVE from Lower Saxony and Hamburg performs energetic shows with hits from the 80s, 90s, 2000s, and today — 100% live, creating a lively atmosphere for singing, dancing, and celebrating at Kiel Week.\n",
      "\n",
      "2 Event Name: Music Theater\n",
      "Date: 2025-06-26\n",
      "Time: 18:00\n",
      "Location: Düsternbrooker \n",
      "Description: A special music theater event for culture and dance\n",
      "\n",
      "3 Event Name: Waterkant Festival\n",
      "Date: 2025-06-20\n",
      "Time: 10:00 - 20:00\n",
      "Location: Kiellinie\n",
      "Description: Innovation festival in Kiel gathering startups, business leaders, and experts. Over 90 sessions on AI, work future, oceans, energy, and democracy. Includes talks, workshops, and live music by the fjord. A place for networking, inspiration, and launching new ideas.\n",
      "\n",
      "4 Event Name: OCEAN PARTY\n",
      "Date: 2025-06-21\n",
      "Time: 19:30\n",
      "Location:  Bootshafen Kiel-Mitte\n",
      "Description: Kiel Week kicks off with a high-energy Ocean Party featuring DJ MOISI, a spectacular light show, fire fountains, and heavy electronic beats at the SunExpress Ocean Funpark — perfect for dancing and summer vibes.\n",
      "\n",
      "5 Event Name: ZENO\n",
      "Date: 2025-06-27\n",
      "Time: 10:00\n",
      "Location: Professor-Peters-Platz\n",
      "Description: Zeno, a well-known figure in Kiel's club scene, hosts the DYNAMITE event series, delivering a vibrant mix of electronic beats, pop classics, and chart hits. His energetic sets get every crowd dancing and sweating..\n",
      "\n",
      "6 Event Name: Exhibition: Church Windows in Northern Germany\n",
      "Date: 2025-06-25\n",
      "Time: 10:00\n",
      "Location: Kiellinie\n",
      "Description: From June 15 to July 5, 2025, photographer Jan Petersen exhibits large-format photos of church windows from Hamburg and Schleswig-Holstein, showcasing styles from the 13th century to modern times. A journey through regional art and architecture.\n",
      "\n",
      "7 Event Name: Open camp\n",
      "Date: 2025-06-23\n",
      "Time: 10:00\n",
      "Location: Bootshafen\n",
      "Description: During Kiel Week (June 21–29, 2025), visitors of almost all ages can spontaneously join short sailing tours at the Open Camp on the Kiellinie. Family activities like table tennis, table football, and beach volleyball are also available. No prior registration needed for sailing (depending on weather and availability).\n",
      "\n",
      "8 Event Name: Segelcamp\n",
      "Date: 2025-6-20\n",
      "Time: 09:00 - 10:00\n",
      "Location: Kiellinie\n",
      "Description: Annual sailing camp in Kiel offering over 30 sailing courses for children (ages 6–16) and adults. Children learn on Optimists and Aira yachts, led by expert instructors. Adults can enjoy evening and weekend sailing experiences. Registration needed for many courses, but spontaneous participation is possible on open camp weekends.\n",
      "\n",
      "9 Event Name: SchietwetterCup - Rugby Tournament\n",
      "Date: 2025-06-26\n",
      "Time: 10:00\n",
      "Location: Professor-Peters-Platz\n",
      "Description: Northern Germany’s largest 7s rugby tournament takes place in Kiel on the penultimate weekend of June. Teams from Germany, the Baltics, and across Europe compete, with participation from Navy teams and players from countries like Fiji and England. Spectators are welcome for an exciting sports experience.\n",
      "\n",
      "10 Event Name: Aalregatta Sailing Event\n",
      "Date: 2025-06-21\n",
      "Time: 10:00\n",
      "Location: Bootshafen\n",
      "Description: Traditional sailing regatta hosted by Segelclub Eckernförde and Kieler Yacht-Club. Starts at 9 AM from Düsternbrook, with races in Kiel Fjord and Eckernförde Bay. The band United4 performs exclusively for participants on Saturday evening.\n",
      "\n",
      "11 Event Name: International Cities Forum: Education as a Key to Participation\n",
      "Date: 2025-06-23\n",
      "Time: 18:00\n",
      "Location: Lorentzendamm\n",
      "Description: Delegations from Kiel’s partner cities meet to discuss education’s role in promoting inclusion and societal cohesion. Public panel discussion after registration. Focus on global practices and exchanging ideas for better educational systems.\n",
      "\n",
      "12 Event Name: Camp Marine\n",
      "Date: 2025-06-24\n",
      "Time: 10:00\n",
      "Location: Kiellinie\n",
      "Description: Free outdoor movie screening for families and students.\n",
      "\n",
      "13 Event Name: Summer Market at Friedrichsort Fortress\n",
      "Date: 2025-06-22\n",
      "Time: 18:00\n",
      "Location: Christianspries\n",
      "Description: Art and crafts market at the historic Friedrichsort fortress near Falckenstein Beach. Local artists sell works in glass, jewelry, ceramics, and more. Open 11 AM–5 PM. Accessible by bus or ferry. Free entry; parking available for a small fee. Event moves inside in case of bad weather.\n",
      "\n",
      "14 Event Name: Galli Theater - Interactive Fairy Tale Performances\n",
      "Date: 2025-06-24\n",
      "Time: 18:00\n",
      "Location: Bootshafen\n",
      "Description: Every day, the Galli Theater hosts a new interactive fairy tale play where children join in, laugh, and act out parts of the story. Audience participation is essential, making kids a part of the adventure.\n",
      "\n",
      "15 Event Name:  Children’s Tour: Secrets of Seafaring\n",
      "Date: 2025-06-25\n",
      "Time: 18:00\n",
      "Location: Schifffahrtsmuseum\n",
      "Description: A special museum tour for children (ages 5+) at the historic Fish Hall, exploring how sailors navigated the oceans and how items like the Seehund submarine ended up in museums. Ends with a visit to a cabinet of curiosities full of maritime mysteries.\n",
      "\n"
     ]
    }
   ],
   "source": [
    "# Sort festival_talks according to the sorted_indices\n",
    "sorted_events_manhattan = [event_texts[i] for i in sorted_indices_manahttan]\n",
    "\n",
    "# Optionally print it\n",
    "for num, talk in enumerate(sorted_events_manhattan):\n",
    "    print(num+1, talk)\n",
    "    print()"
   ]
  },
  {
   "cell_type": "code",
   "execution_count": null,
   "metadata": {},
   "outputs": [],
   "source": []
  }
 ],
 "metadata": {
  "kernelspec": {
   "display_name": ".venv",
   "language": "python",
   "name": "python3"
  },
  "language_info": {
   "codemirror_mode": {
    "name": "ipython",
    "version": 3
   },
   "file_extension": ".py",
   "mimetype": "text/x-python",
   "name": "python",
   "nbconvert_exporter": "python",
   "pygments_lexer": "ipython3",
   "version": "3.11.5"
  }
 },
 "nbformat": 4,
 "nbformat_minor": 2
}
