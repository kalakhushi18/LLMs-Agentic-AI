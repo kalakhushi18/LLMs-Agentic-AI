{
 "cells": [
  {
   "cell_type": "markdown",
   "metadata": {},
   "source": [
    "### Llama Index for a Document "
   ]
  },
  {
   "cell_type": "code",
   "execution_count": 1,
   "metadata": {},
   "outputs": [],
   "source": [
    "import os\n",
    "from dotenv import load_dotenv\n",
    "load_dotenv()\n",
    "\n",
    "openai_key = os.getenv(\"OPENAI_API_KEY\")"
   ]
  },
  {
   "cell_type": "code",
   "execution_count": 16,
   "metadata": {},
   "outputs": [],
   "source": [
    "from llama_index.llms.openai import OpenAI\n",
    "from llama_index.core  import VectorStoreIndex, SimpleDirectoryReader #loading dat\n",
    "from IPython.display import Markdown, display"
   ]
  },
  {
   "cell_type": "code",
   "execution_count": 5,
   "metadata": {},
   "outputs": [
    {
     "data": {
      "text/plain": [
       "[Document(id_='f3c4b9ca-0dc1-40d8-b1ff-5af2d67a0e76', embedding=None, metadata={'file_path': 'd:\\\\Fachochschule Kiel\\\\opencampus\\\\LLMs and AI Agents\\\\data\\\\rich_dad_poor_dad.txt', 'file_name': 'rich_dad_poor_dad.txt', 'file_type': 'text/plain', 'file_size': 1351, 'creation_date': '2025-05-08', 'last_modified_date': '2025-05-08'}, excluded_embed_metadata_keys=['file_name', 'file_type', 'file_size', 'creation_date', 'last_modified_date', 'last_accessed_date'], excluded_llm_metadata_keys=['file_name', 'file_type', 'file_size', 'creation_date', 'last_modified_date', 'last_accessed_date'], relationships={}, metadata_template='{key}: {value}', metadata_separator='\\n', text_resource=MediaResource(embeddings=None, data=None, text=\"  1. Rich Dad, Poor Dad\\r\\n\\r\\n Main Idea: Two dads teach different views: one values job security (Poor Dad), the other teaches financial independence (Rich Dad).\\r\\n\\r\\n 2. The Rich Don’t Work for Money\\r\\n\\r\\n Main Idea: The rich make money work for them by acquiring assets, not chasing salaries.\\r\\n\\r\\n 3. Why Teach Financial Literacy?\\r\\n\\r\\n Main Idea: Knowing how money works (assets vs liabilities) is essential to growing wealth.\\r\\n\\r\\n 4. Mind Your Own Business\\r\\n\\r\\n Main Idea: Focus on building and owning assets, not just working for others.\\r\\n\\r\\n 5. The History of Taxes and the Power of Corporations\\r\\n\\r\\n Main Idea: The rich use corporations and tax strategies to protect and grow wealth.\\r\\n\\r\\n 6. The Rich Invent Money\\r\\n\\r\\n Main Idea: Financial education and creativity let the rich find and create opportunities.\\r\\n\\r\\n 7. Work to Learn—Don’t Work for Money\\r\\n\\r\\n Main Idea: Build skills across fields (sales, marketing, investing) to become truly wealthy.\\r\\n\\r\\n 8. Overcoming Obstacles\\r\\n\\r\\n Main Idea: Fear, cynicism, laziness, bad habits, and arrogance are the real barriers to wealth.\\r\\n\\r\\n 9. Getting Started\\r\\n\\r\\n Main Idea: Tips to start your financial journey — set goals, educate yourself, and take action.\\r\\n\\r\\n 10. Still Want More? Here Are Some To-Do's\\r\\n\\r\\n Main Idea: Practical advice: find mentors, join investment groups, and keep learning about money.\\r\\n\\r\\n\", path=None, url=None, mimetype=None), image_resource=None, audio_resource=None, video_resource=None, text_template='{metadata_str}\\n\\n{content}')]"
      ]
     },
     "execution_count": 5,
     "metadata": {},
     "output_type": "execute_result"
    }
   ],
   "source": [
    "#loading data\n",
    "docs = SimpleDirectoryReader(\"data\").load_data()\n",
    "docs"
   ]
  },
  {
   "cell_type": "code",
   "execution_count": 6,
   "metadata": {},
   "outputs": [],
   "source": [
    "#storing into vector store\n",
    "index = VectorStoreIndex.from_documents(docs)"
   ]
  },
  {
   "cell_type": "code",
   "execution_count": 8,
   "metadata": {},
   "outputs": [],
   "source": [
    "#creating query which includes this index \n",
    "query_engine = index.as_query_engine()  #this does not contain memory element (as_chat_engine has memory)"
   ]
  },
  {
   "cell_type": "code",
   "execution_count": 12,
   "metadata": {},
   "outputs": [
    {
     "data": {
      "text/plain": [
       "'Knowing how money works (assets vs liabilities) is essential to growing wealth.'"
      ]
     },
     "execution_count": 12,
     "metadata": {},
     "output_type": "execute_result"
    }
   ],
   "source": [
    "# passing prompt question to the query_engine\n",
    "response = query_engine.query(\"What is the main idea in financial planning?\")\n",
    "response.response"
   ]
  },
  {
   "cell_type": "code",
   "execution_count": 13,
   "metadata": {},
   "outputs": [],
   "source": [
    "# persisting the vector store index\n",
    "index.storage_context.persist()  #default_vector_store keeps the embeddings"
   ]
  },
  {
   "cell_type": "code",
   "execution_count": 21,
   "metadata": {},
   "outputs": [],
   "source": [
    "# from llama_index.core import StorageContext, load_index_from_storage\n",
    "\n",
    "# # Load storage context\n",
    "# storage_context = StorageContext.from_defaults(persist_dir=\"storage/index_store.json\")\n",
    "\n",
    "# # Load index from storage\n",
    "# index = load_index_from_storage(storage_context)\n"
   ]
  },
  {
   "cell_type": "code",
   "execution_count": 17,
   "metadata": {},
   "outputs": [
    {
     "data": {
      "text/plain": [
       "Response(response='Tips to start your financial journey — set goals, educate yourself, and take action.', source_nodes=[NodeWithScore(node=TextNode(id_='46743fb2-da12-4a26-bd15-e9920694a494', embedding=None, metadata={'file_path': 'd:\\\\Fachochschule Kiel\\\\opencampus\\\\LLMs and AI Agents\\\\data\\\\rich_dad_poor_dad.txt', 'file_name': 'rich_dad_poor_dad.txt', 'file_type': 'text/plain', 'file_size': 1351, 'creation_date': '2025-05-08', 'last_modified_date': '2025-05-08'}, excluded_embed_metadata_keys=['file_name', 'file_type', 'file_size', 'creation_date', 'last_modified_date', 'last_accessed_date'], excluded_llm_metadata_keys=['file_name', 'file_type', 'file_size', 'creation_date', 'last_modified_date', 'last_accessed_date'], relationships={<NodeRelationship.SOURCE: '1'>: RelatedNodeInfo(node_id='f3c4b9ca-0dc1-40d8-b1ff-5af2d67a0e76', node_type='4', metadata={'file_path': 'd:\\\\Fachochschule Kiel\\\\opencampus\\\\LLMs and AI Agents\\\\data\\\\rich_dad_poor_dad.txt', 'file_name': 'rich_dad_poor_dad.txt', 'file_type': 'text/plain', 'file_size': 1351, 'creation_date': '2025-05-08', 'last_modified_date': '2025-05-08'}, hash='faf6e2e534f94d5987dc443e39f4509fdacf0d86a6b20f67e9e97066b73b032d')}, metadata_template='{key}: {value}', metadata_separator='\\n', text=\"1. Rich Dad, Poor Dad\\r\\n\\r\\n Main Idea: Two dads teach different views: one values job security (Poor Dad), the other teaches financial independence (Rich Dad).\\r\\n\\r\\n 2. The Rich Don’t Work for Money\\r\\n\\r\\n Main Idea: The rich make money work for them by acquiring assets, not chasing salaries.\\r\\n\\r\\n 3. Why Teach Financial Literacy?\\r\\n\\r\\n Main Idea: Knowing how money works (assets vs liabilities) is essential to growing wealth.\\r\\n\\r\\n 4. Mind Your Own Business\\r\\n\\r\\n Main Idea: Focus on building and owning assets, not just working for others.\\r\\n\\r\\n 5. The History of Taxes and the Power of Corporations\\r\\n\\r\\n Main Idea: The rich use corporations and tax strategies to protect and grow wealth.\\r\\n\\r\\n 6. The Rich Invent Money\\r\\n\\r\\n Main Idea: Financial education and creativity let the rich find and create opportunities.\\r\\n\\r\\n 7. Work to Learn—Don’t Work for Money\\r\\n\\r\\n Main Idea: Build skills across fields (sales, marketing, investing) to become truly wealthy.\\r\\n\\r\\n 8. Overcoming Obstacles\\r\\n\\r\\n Main Idea: Fear, cynicism, laziness, bad habits, and arrogance are the real barriers to wealth.\\r\\n\\r\\n 9. Getting Started\\r\\n\\r\\n Main Idea: Tips to start your financial journey — set goals, educate yourself, and take action.\\r\\n\\r\\n 10. Still Want More? Here Are Some To-Do's\\r\\n\\r\\n Main Idea: Practical advice: find mentors, join investment groups, and keep learning about money.\", mimetype='text/plain', start_char_idx=2, end_char_idx=1339, metadata_seperator='\\n', text_template='{metadata_str}\\n\\n{content}'), score=0.810371740720958)], metadata={'46743fb2-da12-4a26-bd15-e9920694a494': {'file_path': 'd:\\\\Fachochschule Kiel\\\\opencampus\\\\LLMs and AI Agents\\\\data\\\\rich_dad_poor_dad.txt', 'file_name': 'rich_dad_poor_dad.txt', 'file_type': 'text/plain', 'file_size': 1351, 'creation_date': '2025-05-08', 'last_modified_date': '2025-05-08'}})"
      ]
     },
     "execution_count": 17,
     "metadata": {},
     "output_type": "execute_result"
    }
   ],
   "source": [
    "#defining the model \n",
    "\n",
    "from llama_index.core import ServiceContext\n",
    "\n",
    "llm = OpenAI(model= \"gpt-3.5-turbo\", temperature = 0, max_token = 256)\n",
    "\n",
    "query_engine = index.as_query_engine(llm=llm)\n",
    "\n",
    "response = query_engine.query(\"What are the first steps towards financial literacy?\")\n",
    "response"
   ]
  },
  {
   "cell_type": "code",
   "execution_count": null,
   "metadata": {},
   "outputs": [],
   "source": []
  }
 ],
 "metadata": {
  "kernelspec": {
   "display_name": ".venv",
   "language": "python",
   "name": "python3"
  },
  "language_info": {
   "codemirror_mode": {
    "name": "ipython",
    "version": 3
   },
   "file_extension": ".py",
   "mimetype": "text/x-python",
   "name": "python",
   "nbconvert_exporter": "python",
   "pygments_lexer": "ipython3",
   "version": "3.11.5"
  }
 },
 "nbformat": 4,
 "nbformat_minor": 2
}
